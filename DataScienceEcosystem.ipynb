{
 "cells": [
  {
   "cell_type": "markdown",
   "id": "19368108-9287-4e39-bc0a-e192176e8b1d",
   "metadata": {},
   "source": [
    "# Data Science Tools and Ecosystem"
   ]
  },
  {
   "cell_type": "markdown",
   "id": "c1d7d96b-a7d8-43aa-a192-abe8bdf9e5b6",
   "metadata": {},
   "source": [
    "In this notebook, Data Science Tools and Ecosystem are summarized."
   ]
  },
  {
   "cell_type": "markdown",
   "id": "804cbdaa-b134-4798-a8c9-d5bdc733600a",
   "metadata": {},
   "source": [
    "**Objectives:**\n",
    "- Some of the popular languages that Data Scientists in use.\n",
    "- Some of the commonly used libraries used by Data Scientists.\n",
    "-  a few examples of evaluating arithmetic expressions in Python.\n",
    "- a simple arithmetic expression to mutiply then add integers.\n",
    "- Converting Minutes to Hours Using Python.    "
   ]
  },
  {
   "cell_type": "markdown",
   "id": "8aad90fc-b169-44ec-89f9-e8692d0d9c38",
   "metadata": {},
   "source": [
    "Some of the popular languages that Data Scientists use are: \n",
    "1. Python \n",
    "2. R \n",
    "3. SQL"
   ]
  },
  {
   "cell_type": "markdown",
   "id": "06e6a294-197d-4900-8393-5c7b2c2885a0",
   "metadata": {
    "scrolled": true
   },
   "source": [
    "Some of the commonly used libraries used by Data Scientists include:\n",
    "1. pandas\n",
    "2. NumPy\n",
    "3. Matplotlib"
   ]
  },
  {
   "cell_type": "markdown",
   "id": "8e5389e6-749c-49e5-a207-74528e67a8b6",
   "metadata": {},
   "source": [
    "| Data Science Tools       |\n",
    "|--------------------------|\n",
    "| Jupyter Notebook         |\n",
    "| Apache Hadoop            |\n",
    "| Git/GitHub               |\n"
   ]
  },
  {
   "cell_type": "markdown",
   "id": "8d71541b-dfec-4932-8784-d9c03ddacbc4",
   "metadata": {},
   "source": [
    "### Below are a few examples of evaluating arithmetic expressions in Python.\n",
    "Examples:\n",
    "- 5 + 3 (Addition)\n",
    "- 10 - 2 (Subtraction)\n",
    "- 4 * 7 (Multiplication)\n",
    "- 20 / 4 (Division)\n"
   ]
  },
  {
   "cell_type": "code",
   "execution_count": 13,
   "id": "603bf081-2a4c-4459-bfb7-6dcf274668af",
   "metadata": {},
   "outputs": [
    {
     "data": {
      "text/plain": [
       "17"
      ]
     },
     "execution_count": 13,
     "metadata": {},
     "output_type": "execute_result"
    }
   ],
   "source": [
    "#This a simple arithmetic expression to mutiply then add integers\n",
    "(3*4)+5"
   ]
  },
  {
   "cell_type": "code",
   "execution_count": 15,
   "id": "d3e19308-ae8b-40bd-9a54-023a3a897e33",
   "metadata": {},
   "outputs": [
    {
     "name": "stdout",
     "output_type": "stream",
     "text": [
      "3.3333333333333335\n"
     ]
    }
   ],
   "source": [
    "#his will convert 200 minutes to hours by diving by 60\n",
    "\n",
    "minutes = 200\n",
    "hours = minutes / 60\n",
    "print (hours) "
   ]
  },
  {
   "cell_type": "markdown",
   "id": "62353123-6516-450f-84c6-711936f85b5c",
   "metadata": {},
   "source": [
    "## Author\n",
    "\n",
    "Sadek Fouad\n"
   ]
  },
  {
   "cell_type": "code",
   "execution_count": null,
   "id": "5c75b5fd-145d-4d43-82da-bbf6225b0764",
   "metadata": {},
   "outputs": [],
   "source": []
  }
 ],
 "metadata": {
  "kernelspec": {
   "display_name": "Python 3 (ipykernel)",
   "language": "python",
   "name": "python3"
  },
  "language_info": {
   "codemirror_mode": {
    "name": "ipython",
    "version": 3
   },
   "file_extension": ".py",
   "mimetype": "text/x-python",
   "name": "python",
   "nbconvert_exporter": "python",
   "pygments_lexer": "ipython3",
   "version": "3.12.7"
  }
 },
 "nbformat": 4,
 "nbformat_minor": 5
}
